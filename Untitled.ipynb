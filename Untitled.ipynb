{
 "cells": [
  {
   "cell_type": "code",
   "execution_count": 7,
   "metadata": {},
   "outputs": [
    {
     "data": {
      "application/vnd.jupyter.widget-view+json": {
       "model_id": "3176cfd31b964bfbacf76035789c90e6",
       "version_major": 2,
       "version_minor": 0
      },
      "text/plain": [
       "FloatText(value=0.0)"
      ]
     },
     "metadata": {},
     "output_type": "display_data"
    },
    {
     "data": {
      "application/vnd.jupyter.widget-view+json": {
       "model_id": "411fcf03b886408c96fbc4dd550b40ad",
       "version_major": 2,
       "version_minor": 0
      },
      "text/plain": [
       "FloatSlider(value=0.0)"
      ]
     },
     "metadata": {},
     "output_type": "display_data"
    }
   ],
   "source": [
    "import json\n",
    "\n",
    "from ipywidgets import IntSlider\n",
    "from ipywidgets.embed import embed_data\n",
    "import ipywidgets as widgets\n",
    "\n",
    "a = widgets.FloatText()\n",
    "b = widgets.FloatSlider()\n",
    "display(a,b)\n",
    "\n",
    "mylink = widgets.jslink((a, 'value'), (b, 'value'))\n",
    "data = embed_data(views=[a, b])\n",
    "\n",
    "html_template = \"\"\"\n",
    "<html>\n",
    "  <head>\n",
    "\n",
    "    <title>Widget export</title>\n",
    "\n",
    "    <!-- Load RequireJS, used by the IPywidgets for dependency management -->\n",
    "    <script \n",
    "      src=\"https://cdnjs.cloudflare.com/ajax/libs/require.js/2.3.4/require.min.js\" \n",
    "      integrity=\"sha256-Ae2Vz/4ePdIu6ZyI/5ZGsYnb+m0JlOmKPjt6XZ9JJkA=\" \n",
    "      crossorigin=\"anonymous\">\n",
    "    </script>\n",
    "\n",
    "    <!-- Load IPywidgets bundle for embedding. -->\n",
    "    <script\n",
    "      data-jupyter-widgets-cdn=\"https://cdn.jsdelivr.net/npm/\"\n",
    "      src=\"https://unpkg.com/@jupyter-widgets/html-manager@*/dist/embed-amd.js\" \n",
    "      crossorigin=\"anonymous\">\n",
    "    </script>\n",
    "\n",
    "    <!-- The state of all the widget models on the page -->\n",
    "    <script type=\"application/vnd.jupyter.widget-state+json\">\n",
    "      {manager_state}\n",
    "    </script>\n",
    "  </head>\n",
    "\n",
    "  <body>\n",
    "\n",
    "    <h1>Widget export</h1>\n",
    "\n",
    "    <div id=\"first-slider-widget\">\n",
    "      <!-- This script tag will be replaced by the view's DOM tree -->\n",
    "      <script type=\"application/vnd.jupyter.widget-view+json\">\n",
    "        {widget_views[0]}\n",
    "      </script>\n",
    "    </div>\n",
    "\n",
    "    <hrule />\n",
    "\n",
    "    <div id=\"second-slider-widget\">\n",
    "      <!-- This script tag will be replaced by the view's DOM tree -->\n",
    "      <script type=\"application/vnd.jupyter.widget-view+json\">\n",
    "        {widget_views[1]}\n",
    "      </script>\n",
    "    </div>\n",
    "\n",
    "  </body>\n",
    "</html>\n",
    "\"\"\"\n",
    "\n",
    "manager_state = json.dumps(data['manager_state'])\n",
    "widget_views = [json.dumps(view) for view in data['view_specs']]\n",
    "rendered_template = html_template.format(manager_state=manager_state, widget_views=widget_views)\n",
    "\n",
    "with open('export.html', 'w') as fp:\n",
    "    fp.write(rendered_template)"
   ]
  },
  {
   "cell_type": "code",
   "execution_count": null,
   "metadata": {},
   "outputs": [],
   "source": []
  }
 ],
 "metadata": {
  "kernelspec": {
   "display_name": "Python 3",
   "language": "python",
   "name": "python3"
  },
  "language_info": {
   "codemirror_mode": {
    "name": "ipython",
    "version": 3
   },
   "file_extension": ".py",
   "mimetype": "text/x-python",
   "name": "python",
   "nbconvert_exporter": "python",
   "pygments_lexer": "ipython3",
   "version": "3.7.3"
  }
 },
 "nbformat": 4,
 "nbformat_minor": 4
}
